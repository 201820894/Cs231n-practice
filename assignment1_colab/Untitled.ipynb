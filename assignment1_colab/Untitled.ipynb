{
 "cells": [
  {
   "cell_type": "code",
   "execution_count": 20,
   "id": "7ad00f3b",
   "metadata": {},
   "outputs": [
    {
     "data": {
      "text/plain": [
       "array([[1.],\n",
       "       [1.],\n",
       "       [1.],\n",
       "       [1.],\n",
       "       [1.]])"
      ]
     },
     "execution_count": 20,
     "metadata": {},
     "output_type": "execute_result"
    }
   ],
   "source": [
    "import numpy as np\n",
    "x=np.ones((5,1))\n",
    "x"
   ]
  },
  {
   "cell_type": "code",
   "execution_count": 22,
   "id": "1d697e5b",
   "metadata": {},
   "outputs": [
    {
     "name": "stdout",
     "output_type": "stream",
     "text": [
      "[[-1.27840681 -0.2333407  -2.52537727  1.24369932  0.53362031  0.64716564\n",
      "   0.04822687]]\n"
     ]
    },
    {
     "data": {
      "text/plain": [
       "(5, 7)"
      ]
     },
     "execution_count": 22,
     "metadata": {},
     "output_type": "execute_result"
    }
   ],
   "source": [
    "y=np.random.randn(1,7)\n",
    "print(y)\n",
    "np.shape(x-y)"
   ]
  },
  {
   "cell_type": "code",
   "execution_count": 23,
   "id": "daa18d11",
   "metadata": {},
   "outputs": [],
   "source": [
    "array = np.array([3,1,9,4])\n",
    "sorted_indices = np.argsort(array)"
   ]
  },
  {
   "cell_type": "code",
   "execution_count": 24,
   "id": "94330e25",
   "metadata": {},
   "outputs": [
    {
     "name": "stdout",
     "output_type": "stream",
     "text": [
      "[1 0 3 2]\n",
      "[3 1 9 4]\n"
     ]
    }
   ],
   "source": [
    "print(sorted_indices)\n",
    "print(array)"
   ]
  },
  {
   "cell_type": "code",
   "execution_count": 25,
   "id": "1be4aca2",
   "metadata": {},
   "outputs": [
    {
     "name": "stdout",
     "output_type": "stream",
     "text": [
      "[2 3 0 1]\n"
     ]
    }
   ],
   "source": [
    "print(sorted_indices[::-1])"
   ]
  },
  {
   "cell_type": "code",
   "execution_count": 30,
   "id": "4a0054ca",
   "metadata": {},
   "outputs": [
    {
     "data": {
      "text/plain": [
       "numpy.ndarray"
      ]
     },
     "execution_count": 30,
     "metadata": {},
     "output_type": "execute_result"
    }
   ],
   "source": [
    "y=np.array([1,2,2,3,4,5,5,5,6,7,7,7,7,8,8,9])\n",
    "x=np.array([0,4,7])\n",
    "type(y[x])"
   ]
  },
  {
   "cell_type": "code",
   "execution_count": 32,
   "id": "134ae114",
   "metadata": {},
   "outputs": [],
   "source": [
    "unique, counts = np.unique(y, return_counts=True) "
   ]
  },
  {
   "cell_type": "code",
   "execution_count": 41,
   "id": "ac6dcbe1",
   "metadata": {},
   "outputs": [
    {
     "name": "stdout",
     "output_type": "stream",
     "text": [
      "[1 2 3 4 5 6 7 8 9]\n",
      "[1 2 1 1 3 1 4 2 1]\n"
     ]
    }
   ],
   "source": [
    "print(unique)\n",
    "print(counts)"
   ]
  },
  {
   "cell_type": "code",
   "execution_count": 42,
   "id": "192fa44d",
   "metadata": {},
   "outputs": [
    {
     "data": {
      "text/plain": [
       "6"
      ]
     },
     "execution_count": 42,
     "metadata": {},
     "output_type": "execute_result"
    }
   ],
   "source": [
    "np.argmax(counts)"
   ]
  },
  {
   "cell_type": "code",
   "execution_count": 52,
   "id": "04a738c8",
   "metadata": {},
   "outputs": [
    {
     "data": {
      "text/plain": [
       "(200,)"
      ]
     },
     "execution_count": 52,
     "metadata": {},
     "output_type": "execute_result"
    }
   ],
   "source": [
    "dist=np.zeros((10,200))\n",
    "\n",
    "x=np.random.randn(10,5)\n",
    "y=np.ones((200,5))\n",
    "#for i in range(len(x)):\n",
    "#dist[i,:]=x[i]-y #5*1 -200*5\n",
    "(np.sum(x[1]-y, axis=1)).shape    "
   ]
  },
  {
   "cell_type": "code",
   "execution_count": 27,
   "id": "64d14c14",
   "metadata": {},
   "outputs": [
    {
     "data": {
      "text/plain": [
       "array([[ 0.12614993, -0.14442189, -1.57453107, -0.30549787,  0.0840377 ],\n",
       "       [-0.34044255,  0.95819568,  0.68730667,  0.53532749, -0.263631  ]])"
      ]
     },
     "execution_count": 27,
     "metadata": {},
     "output_type": "execute_result"
    }
   ],
   "source": [
    "import numpy as np\n",
    "x=np.array([[1,5,3,4,7],[2,3,4,5,6]])\n",
    "y=np.zeros(x.shape)+np.random.randn(2,5)\n",
    "#type(y)\n",
    "#np.random.randn(2,5)\n",
    "y\n",
    "#print(np.max(y,np.zeros(x.shape)))"
   ]
  },
  {
   "cell_type": "code",
   "execution_count": 28,
   "id": "6c98b5e1",
   "metadata": {},
   "outputs": [
    {
     "data": {
      "text/plain": [
       "array([[0., 0., 0., 0., 0.],\n",
       "       [0., 0., 0., 0., 0.]])"
      ]
     },
     "execution_count": 28,
     "metadata": {},
     "output_type": "execute_result"
    }
   ],
   "source": [
    "np.zeros(x.shape)"
   ]
  },
  {
   "cell_type": "code",
   "execution_count": 33,
   "id": "a88ff0f8",
   "metadata": {},
   "outputs": [
    {
     "data": {
      "text/plain": [
       "'102%'"
      ]
     },
     "execution_count": 33,
     "metadata": {},
     "output_type": "execute_result"
    }
   ],
   "source": [
    "str(100+2) + \"%\""
   ]
  },
  {
   "cell_type": "code",
   "execution_count": 10,
   "id": "a8ce2cad",
   "metadata": {},
   "outputs": [
    {
     "name": "stdout",
     "output_type": "stream",
     "text": [
      "[[-1.25726584 -1.25975325 -0.30031834  0.10211343  0.44988061]\n",
      " [ 0.17497231  0.41386409  1.63681853  0.04597405  1.39583349]\n",
      " [ 1.25919201 -0.72005895  0.25142977  0.30253116  0.70208907]]\n",
      "[[1.]\n",
      " [1.]\n",
      " [1.]]\n"
     ]
    },
    {
     "data": {
      "text/plain": [
       "array([[-0.25726584, -0.25975325,  0.69968166,  1.10211343,  1.44988061],\n",
       "       [ 1.17497231,  1.41386409,  2.63681853,  1.04597405,  2.39583349],\n",
       "       [ 2.25919201,  0.27994105,  1.25142977,  1.30253116,  1.70208907]])"
      ]
     },
     "execution_count": 10,
     "metadata": {},
     "output_type": "execute_result"
    }
   ],
   "source": [
    "import numpy as np\n",
    "x=np.random.randn(3,5)\n",
    "y=np.ones((3,1))\n",
    "\n",
    "print(x)\n",
    "print(y)\n",
    "x+y"
   ]
  },
  {
   "cell_type": "code",
   "execution_count": 12,
   "id": "36bad185",
   "metadata": {},
   "outputs": [
    {
     "data": {
      "text/plain": [
       "{1: 2}"
      ]
     },
     "execution_count": 12,
     "metadata": {},
     "output_type": "execute_result"
    }
   ],
   "source": [
    "z={}\n",
    "z[1]=2\n",
    "z"
   ]
  }
 ],
 "metadata": {
  "kernelspec": {
   "display_name": "Python 3 (ipykernel)",
   "language": "python",
   "name": "python3"
  },
  "language_info": {
   "codemirror_mode": {
    "name": "ipython",
    "version": 3
   },
   "file_extension": ".py",
   "mimetype": "text/x-python",
   "name": "python",
   "nbconvert_exporter": "python",
   "pygments_lexer": "ipython3",
   "version": "3.9.12"
  }
 },
 "nbformat": 4,
 "nbformat_minor": 5
}
